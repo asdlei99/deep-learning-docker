{
 "cells": [
  {
   "cell_type": "code",
   "execution_count": null,
   "metadata": {},
   "outputs": [],
   "source": [
    "import os\n",
    "os.environ[\"CUDA_VISIBLE_DEVICES\"] = \"0\""
   ]
  },
  {
   "cell_type": "code",
   "execution_count": null,
   "metadata": {},
   "outputs": [],
   "source": [
    "import matplotlib.pyplot as plt\n",
    "from keras.preprocessing.image import ImageDataGenerator"
   ]
  },
  {
   "cell_type": "code",
   "execution_count": null,
   "metadata": {},
   "outputs": [],
   "source": [
    "im_width, im_height = 224, 224\n",
    "batch_size = 4"
   ]
  },
  {
   "cell_type": "markdown",
   "metadata": {},
   "source": [
    "## Keras Built-in Image Generator"
   ]
  },
  {
   "cell_type": "code",
   "execution_count": null,
   "metadata": {},
   "outputs": [],
   "source": [
    "# Workaround for demo\n",
    "# For Keras's ImageDataGenerator, we should put image in different folders\n",
    "img_dir = '/datasets/coco_2017'"
   ]
  },
  {
   "cell_type": "code",
   "execution_count": null,
   "metadata": {},
   "outputs": [],
   "source": [
    "data_aug = ImageDataGenerator(\n",
    "    rescale=1/255,\n",
    "    horizontal_flip=True,\n",
    "    vertical_flip=False,\n",
    ")\n",
    "\n",
    "\n",
    "generator = data_aug.flow_from_directory(\n",
    "    img_dir,\n",
    "    target_size=(im_width, im_height),\n",
    "    batch_size=batch_size,\n",
    ")"
   ]
  },
  {
   "cell_type": "code",
   "execution_count": null,
   "metadata": {},
   "outputs": [],
   "source": [
    "imgs, labels = generator.next()\n",
    "cols = 4\n",
    "rows = len(imgs) / cols\n",
    "f = plt.figure(figsize=(15, 15))\n",
    "\n",
    "for i in range(len(imgs)):\n",
    "    plt.subplot(rows, cols , i + 1)\n",
    "    plt.axis('Off')\n",
    "    plt.imshow(imgs[i])\n",
    "\n",
    "plt.show()"
   ]
  },
  {
   "cell_type": "markdown",
   "metadata": {},
   "source": [
    "## COCO Object Generator"
   ]
  },
  {
   "cell_type": "code",
   "execution_count": null,
   "metadata": {},
   "outputs": [],
   "source": [
    "import sys\n",
    "sys.path.append(\"../../../../util/keras_util\")\n",
    "from coco_obj_generator import CocoObjGenerator"
   ]
  },
  {
   "cell_type": "code",
   "execution_count": null,
   "metadata": {},
   "outputs": [],
   "source": [
    "img_dir = '/datasets/coco_2017/val2017'\n",
    "label_file = '/datasets/coco_2017/annotations/instances_val2017.json'"
   ]
  },
  {
   "cell_type": "code",
   "execution_count": null,
   "metadata": {},
   "outputs": [],
   "source": [
    "data_aug = CocoObjGenerator(\n",
    "    rescale=1/255,\n",
    "    bbox_width_shift_range=0.1,\n",
    "    bbox_height_shift_range=0.1,\n",
    "    horizontal_flip=True,\n",
    "    vertical_flip=False,\n",
    ")\n",
    "\n",
    "\n",
    "generator = data_aug.flow_from_directory(\n",
    "    img_dir, label_file,\n",
    "    color_mode='random',\n",
    "    target_size=(im_width, im_height),\n",
    "    batch_size=batch_size,\n",
    ")"
   ]
  },
  {
   "cell_type": "code",
   "execution_count": null,
   "metadata": {},
   "outputs": [],
   "source": [
    "imgs, labels = generator.next()\n",
    "cols = 4\n",
    "rows = len(imgs) / cols\n",
    "f = plt.figure(figsize=(15, 15))\n",
    "\n",
    "for i in range(len(imgs)):\n",
    "    plt.subplot(rows, cols , i + 1)\n",
    "    plt.axis('Off')\n",
    "    plt.imshow(imgs[i])\n",
    "\n",
    "plt.show()"
   ]
  }
 ],
 "metadata": {
  "kernelspec": {
   "display_name": "Python 3",
   "language": "python",
   "name": "python3"
  },
  "language_info": {
   "codemirror_mode": {
    "name": "ipython",
    "version": 3
   },
   "file_extension": ".py",
   "mimetype": "text/x-python",
   "name": "python",
   "nbconvert_exporter": "python",
   "pygments_lexer": "ipython3",
   "version": "3.5.2"
  }
 },
 "nbformat": 4,
 "nbformat_minor": 2
}
